{
 "cells": [
  {
   "cell_type": "code",
   "execution_count": 1,
   "metadata": {
    "collapsed": true
   },
   "outputs": [],
   "source": [
    "import pandas as pd\n",
    "import numpy as np"
   ]
  },
  {
   "cell_type": "code",
   "execution_count": 2,
   "metadata": {
    "collapsed": false
   },
   "outputs": [
    {
     "name": "stdout",
     "output_type": "stream",
     "text": [
      "\u001b[0m\u001b[01;31mFreq2011.zip\u001b[0m     freqrnc_readme.txt              selected words.txt\r\n",
      "freqrnc2011.csv  Generate mnemonic system.ipynb  Untitled 1.xlsx\r\n"
     ]
    }
   ],
   "source": [
    "%ls"
   ]
  },
  {
   "cell_type": "code",
   "execution_count": 3,
   "metadata": {
    "collapsed": false
   },
   "outputs": [
    {
     "data": {
      "text/html": [
       "<div>\n",
       "<table border=\"1\" class=\"dataframe\">\n",
       "  <thead>\n",
       "    <tr style=\"text-align: right;\">\n",
       "      <th></th>\n",
       "      <th>Lemma</th>\n",
       "      <th>PoS</th>\n",
       "      <th>Freq(ipm)</th>\n",
       "      <th>R</th>\n",
       "      <th>D</th>\n",
       "      <th>Doc</th>\n",
       "    </tr>\n",
       "  </thead>\n",
       "  <tbody>\n",
       "    <tr>\n",
       "      <th>0</th>\n",
       "      <td>а</td>\n",
       "      <td>conj</td>\n",
       "      <td>8198.0</td>\n",
       "      <td>100</td>\n",
       "      <td>97</td>\n",
       "      <td>32332</td>\n",
       "    </tr>\n",
       "    <tr>\n",
       "      <th>1</th>\n",
       "      <td>а</td>\n",
       "      <td>intj</td>\n",
       "      <td>19.8</td>\n",
       "      <td>99</td>\n",
       "      <td>90</td>\n",
       "      <td>757</td>\n",
       "    </tr>\n",
       "    <tr>\n",
       "      <th>2</th>\n",
       "      <td>а</td>\n",
       "      <td>part</td>\n",
       "      <td>6.1</td>\n",
       "      <td>59</td>\n",
       "      <td>79</td>\n",
       "      <td>128</td>\n",
       "    </tr>\n",
       "    <tr>\n",
       "      <th>3</th>\n",
       "      <td>а</td>\n",
       "      <td>s</td>\n",
       "      <td>2.7</td>\n",
       "      <td>59</td>\n",
       "      <td>85</td>\n",
       "      <td>160</td>\n",
       "    </tr>\n",
       "    <tr>\n",
       "      <th>4</th>\n",
       "      <td>аа</td>\n",
       "      <td>intj</td>\n",
       "      <td>1.5</td>\n",
       "      <td>47</td>\n",
       "      <td>80</td>\n",
       "      <td>68</td>\n",
       "    </tr>\n",
       "  </tbody>\n",
       "</table>\n",
       "</div>"
      ],
      "text/plain": [
       "  Lemma   PoS  Freq(ipm)    R   D    Doc\n",
       "0     а  conj     8198.0  100  97  32332\n",
       "1     а  intj       19.8   99  90    757\n",
       "2     а  part        6.1   59  79    128\n",
       "3     а     s        2.7   59  85    160\n",
       "4    аа  intj        1.5   47  80     68"
      ]
     },
     "execution_count": 3,
     "metadata": {},
     "output_type": "execute_result"
    }
   ],
   "source": [
    "words = pd.read_csv('freqrnc2011.csv', sep='\\t')\n",
    "words.head(5)"
   ]
  },
  {
   "cell_type": "code",
   "execution_count": 5,
   "metadata": {
    "collapsed": false
   },
   "outputs": [
    {
     "name": "stdout",
     "output_type": "stream",
     "text": [
      "['conj' 'intj' 'part' 's' 's.PROP' 'a' 'v' 'adv' 'spro' 'pr' 'num' 'apro'\n",
      " 'advpro' 'anum']\n"
     ]
    }
   ],
   "source": [
    "print(words['PoS'].unique())"
   ]
  },
  {
   "cell_type": "code",
   "execution_count": 4,
   "metadata": {
    "collapsed": false
   },
   "outputs": [
    {
     "data": {
      "text/html": [
       "<div>\n",
       "<table border=\"1\" class=\"dataframe\">\n",
       "  <thead>\n",
       "    <tr style=\"text-align: right;\">\n",
       "      <th></th>\n",
       "      <th>Lemma</th>\n",
       "      <th>Freq(ipm)</th>\n",
       "    </tr>\n",
       "  </thead>\n",
       "  <tbody>\n",
       "    <tr>\n",
       "      <th>8015</th>\n",
       "      <td>год</td>\n",
       "      <td>3727.5</td>\n",
       "    </tr>\n",
       "    <tr>\n",
       "      <th>49992</th>\n",
       "      <td>человек</td>\n",
       "      <td>2723.0</td>\n",
       "    </tr>\n",
       "    <tr>\n",
       "      <th>5955</th>\n",
       "      <td>время</td>\n",
       "      <td>2015.7</td>\n",
       "    </tr>\n",
       "    <tr>\n",
       "      <th>9304</th>\n",
       "      <td>дело</td>\n",
       "      <td>1412.1</td>\n",
       "    </tr>\n",
       "    <tr>\n",
       "      <th>11456</th>\n",
       "      <td>жизнь</td>\n",
       "      <td>1389.8</td>\n",
       "    </tr>\n",
       "  </tbody>\n",
       "</table>\n",
       "</div>"
      ],
      "text/plain": [
       "         Lemma  Freq(ipm)\n",
       "8015       год     3727.5\n",
       "49992  человек     2723.0\n",
       "5955     время     2015.7\n",
       "9304      дело     1412.1\n",
       "11456    жизнь     1389.8"
      ]
     },
     "execution_count": 4,
     "metadata": {},
     "output_type": "execute_result"
    }
   ],
   "source": [
    "words = words[words['PoS']=='s']\n",
    "words.drop(['PoS', 'R', 'D', 'Doc'], axis=1, inplace=True)\n",
    "words = words.sort_values(by='Freq(ipm)', ascending=False)\n",
    "words.head()"
   ]
  },
  {
   "cell_type": "code",
   "execution_count": 5,
   "metadata": {
    "collapsed": false
   },
   "outputs": [
    {
     "name": "stdout",
     "output_type": "stream",
     "text": [
      "(22050, 2)\n"
     ]
    }
   ],
   "source": [
    "print(words.shape)"
   ]
  },
  {
   "cell_type": "code",
   "execution_count": 6,
   "metadata": {
    "collapsed": true
   },
   "outputs": [],
   "source": [
    "soglasniye_all = 'бвгджзклмнпрстфхцчшщ'\n",
    "soglasniye_easy = 'нтрсзжлвкпмдгц'\n",
    "soglasniye_difficult = 'фхчшщ'"
   ]
  },
  {
   "cell_type": "code",
   "execution_count": 7,
   "metadata": {
    "collapsed": false
   },
   "outputs": [
    {
     "data": {
      "text/html": [
       "<div>\n",
       "<table border=\"1\" class=\"dataframe\">\n",
       "  <thead>\n",
       "    <tr style=\"text-align: right;\">\n",
       "      <th></th>\n",
       "      <th>Lemma</th>\n",
       "      <th>Freq(ipm)</th>\n",
       "      <th>allchars</th>\n",
       "      <th>easychars</th>\n",
       "      <th>difficultchars</th>\n",
       "      <th>chars</th>\n",
       "    </tr>\n",
       "  </thead>\n",
       "  <tbody>\n",
       "    <tr>\n",
       "      <th>8015</th>\n",
       "      <td>год</td>\n",
       "      <td>3727.5</td>\n",
       "      <td>0</td>\n",
       "      <td>0</td>\n",
       "      <td>0</td>\n",
       "      <td></td>\n",
       "    </tr>\n",
       "  </tbody>\n",
       "</table>\n",
       "</div>"
      ],
      "text/plain": [
       "     Lemma  Freq(ipm)  allchars  easychars  difficultchars chars\n",
       "8015   год     3727.5         0          0               0      "
      ]
     },
     "execution_count": 7,
     "metadata": {},
     "output_type": "execute_result"
    }
   ],
   "source": [
    "words['allchars'] = 0\n",
    "words['easychars'] = 0\n",
    "words['difficultchars'] = 0\n",
    "words['chars'] = ''\n",
    "words.head(1)"
   ]
  },
  {
   "cell_type": "code",
   "execution_count": 8,
   "metadata": {
    "collapsed": false
   },
   "outputs": [
    {
     "data": {
      "text/html": [
       "<div>\n",
       "<table border=\"1\" class=\"dataframe\">\n",
       "  <thead>\n",
       "    <tr style=\"text-align: right;\">\n",
       "      <th></th>\n",
       "      <th>Lemma</th>\n",
       "      <th>Freq(ipm)</th>\n",
       "      <th>allchars</th>\n",
       "      <th>easychars</th>\n",
       "      <th>difficultchars</th>\n",
       "      <th>chars</th>\n",
       "    </tr>\n",
       "  </thead>\n",
       "  <tbody>\n",
       "    <tr>\n",
       "      <th>8015</th>\n",
       "      <td>год</td>\n",
       "      <td>3727.5</td>\n",
       "      <td>2</td>\n",
       "      <td>2</td>\n",
       "      <td>0</td>\n",
       "      <td>гд</td>\n",
       "    </tr>\n",
       "    <tr>\n",
       "      <th>49992</th>\n",
       "      <td>человек</td>\n",
       "      <td>2723.0</td>\n",
       "      <td>4</td>\n",
       "      <td>3</td>\n",
       "      <td>1</td>\n",
       "      <td>члвк</td>\n",
       "    </tr>\n",
       "    <tr>\n",
       "      <th>5955</th>\n",
       "      <td>время</td>\n",
       "      <td>2015.7</td>\n",
       "      <td>3</td>\n",
       "      <td>3</td>\n",
       "      <td>0</td>\n",
       "      <td>врм</td>\n",
       "    </tr>\n",
       "    <tr>\n",
       "      <th>9304</th>\n",
       "      <td>дело</td>\n",
       "      <td>1412.1</td>\n",
       "      <td>2</td>\n",
       "      <td>2</td>\n",
       "      <td>0</td>\n",
       "      <td>дл</td>\n",
       "    </tr>\n",
       "    <tr>\n",
       "      <th>11456</th>\n",
       "      <td>жизнь</td>\n",
       "      <td>1389.8</td>\n",
       "      <td>3</td>\n",
       "      <td>3</td>\n",
       "      <td>0</td>\n",
       "      <td>жзн</td>\n",
       "    </tr>\n",
       "  </tbody>\n",
       "</table>\n",
       "</div>"
      ],
      "text/plain": [
       "         Lemma  Freq(ipm)  allchars  easychars  difficultchars chars\n",
       "8015       год     3727.5         2          2               0    гд\n",
       "49992  человек     2723.0         4          3               1  члвк\n",
       "5955     время     2015.7         3          3               0   врм\n",
       "9304      дело     1412.1         2          2               0    дл\n",
       "11456    жизнь     1389.8         3          3               0   жзн"
      ]
     },
     "execution_count": 8,
     "metadata": {},
     "output_type": "execute_result"
    }
   ],
   "source": [
    "def numberofchars(word, chars):\n",
    "    count = 0\n",
    "    for char in word:\n",
    "        if char in chars:\n",
    "            count += 1\n",
    "    return count\n",
    "\n",
    "def charsinword(word, chars):\n",
    "    result = ''\n",
    "    for char in word:\n",
    "        if char in chars:\n",
    "            result += char\n",
    "    return result\n",
    "\n",
    "for i in range(0, words.shape[0]):\n",
    "    word = words.iloc[i, 0]\n",
    "    words.iloc[i, 2] = numberofchars(word, soglasniye_all)\n",
    "    words.iloc[i, 3] = numberofchars(word, soglasniye_easy)\n",
    "    words.iloc[i, 4] = numberofchars(word, soglasniye_difficult)\n",
    "    words.iloc[i, 5] = charsinword(word, soglasniye_all)\n",
    "words.head()"
   ]
  },
  {
   "cell_type": "code",
   "execution_count": 9,
   "metadata": {
    "collapsed": false
   },
   "outputs": [
    {
     "name": "stdout",
     "output_type": "stream",
     "text": [
      "500 ['гриб', 'полиция', 'цирк', 'благо', 'манера']\n",
      "1000 ['рев', 'скука', 'насос', 'удаление', 'гусь']\n",
      "1500 ['молот', 'гетто', 'блядь', 'серб', 'синод']\n",
      "2000 ['неверие', 'скок', 'неволя', 'осада', 'отвал']\n",
      "2500 ['бузина', 'восьмая', 'типаж', 'излом', 'задел']\n",
      "3000 ['абрек', 'ларь', 'аврал', 'львица', 'юниор']\n",
      "3500 ['рвань', 'булава', 'атолл', 'тейп', 'спуд']\n"
     ]
    }
   ],
   "source": [
    "cond01 = words['allchars'] < 4\n",
    "cond02 = words['allchars'] > 1\n",
    "cond03 = words['difficultchars'] == 0\n",
    "easy_words = words[cond01 & cond02 & cond03]\n",
    "for i in range(1, easy_words.shape[0] // 500):\n",
    "    start = i*500\n",
    "    end = start + 5\n",
    "    print(start, [easy_words.iloc[x, 0] for x in range(start, end)])"
   ]
  },
  {
   "cell_type": "code",
   "execution_count": 10,
   "metadata": {
    "collapsed": false
   },
   "outputs": [
    {
     "name": "stdout",
     "output_type": "stream",
     "text": [
      "(2500, 6)\n"
     ]
    }
   ],
   "source": [
    "good_words = easy_words.iloc[0:2500, :]\n",
    "print(good_words.shape)"
   ]
  },
  {
   "cell_type": "code",
   "execution_count": 11,
   "metadata": {
    "collapsed": false
   },
   "outputs": [
    {
     "data": {
      "text/plain": [
       "3    1793\n",
       "2     707\n",
       "Name: allchars, dtype: int64"
      ]
     },
     "execution_count": 11,
     "metadata": {},
     "output_type": "execute_result"
    }
   ],
   "source": [
    "good_words['allchars'].value_counts()    "
   ]
  },
  {
   "cell_type": "code",
   "execution_count": 15,
   "metadata": {
    "collapsed": false
   },
   "outputs": [],
   "source": [
    "def getallcombos(mapping, ns):\n",
    "    combos = []\n",
    "    if len(ns) == 1:\n",
    "        for char in mapping[ns[0]]:\n",
    "            combos.append(char)\n",
    "        return combos\n",
    "    elif len(ns) > 1:\n",
    "        next_combos = getallcombos(mapping, ns[1:])\n",
    "        for next_combo in next_combos:\n",
    "            for char in mapping[ns[0]]:\n",
    "                combos.append(char+next_combo)\n",
    "    return combos\n",
    "\n",
    "def testmapping(mapping, words_for_test):\n",
    "    result = []\n",
    "    for number in range(10, 100):\n",
    "        number_str = str(number)\n",
    "        combos = getallcombos(mapping, number_str)\n",
    "        word_count = 0\n",
    "        for combo in combos:\n",
    "            cond01 = words_for_test['chars']==combo\n",
    "            word_list = words_for_test[cond01]['Lemma']\n",
    "            word_count += len(word_list.tolist())\n",
    "        result.append(word_count)\n",
    "    return result\n",
    "\n",
    "def testresult(words_count):\n",
    "    #print('len:', len(words_count))\n",
    "    #print('min:', np.min(words_count))\n",
    "    #print('mean:', np.mean(words_count))\n",
    "    #print('median:', np.median(words_count))\n",
    "    #print('max:', np.max(words_count))\n",
    "    print('0-5 words:', [ len([ x for x in words_count if x<y ]) for y in range(1,6) ] )\n",
    "    #print('all of it:')\n",
    "    #print(words_count)"
   ]
  },
  {
   "cell_type": "code",
   "execution_count": 18,
   "metadata": {
    "collapsed": false
   },
   "outputs": [
    {
     "name": "stdout",
     "output_type": "stream",
     "text": [
      "0-5 words: [0, 4, 7, 11, 15]\n",
      "0-5 words: [22, 23, 28, 34, 38]\n"
     ]
    }
   ],
   "source": [
    "test_mapping01 = {\n",
    "    '1': 'жг',\n",
    "    '2': 'дт',\n",
    "    '3': 'хк',\n",
    "    '4': 'чщ',\n",
    "    '5': 'бп',\n",
    "    '6': 'лш',\n",
    "    '7': 'сз',\n",
    "    '8': 'вф',\n",
    "    '9': 'цр',\n",
    "    '0': 'мн'\n",
    "}\n",
    "testresult(testmapping(test_mapping01, words))\n",
    "testresult(testmapping(test_mapping01, good_words))"
   ]
  },
  {
   "cell_type": "code",
   "execution_count": 19,
   "metadata": {
    "collapsed": false
   },
   "outputs": [
    {
     "name": "stdout",
     "output_type": "stream",
     "text": [
      "0-5 words: [8, 18, 32, 40, 46]\n",
      "0-5 words: [41, 47, 51, 61, 66]\n"
     ]
    }
   ],
   "source": [
    "test_mapping02 = {\n",
    "    '1': 'р',\n",
    "    '2': 'д',\n",
    "    '3': 'т',\n",
    "    '4': 'ч',\n",
    "    '5': 'п',\n",
    "    '6': 'ш',\n",
    "    '7': 'с',\n",
    "    '8': 'в',\n",
    "    '9': 'м',\n",
    "    '0': 'н'\n",
    "}\n",
    "testresult(testmapping(test_mapping02, words))\n",
    "testresult(testmapping(test_mapping02, good_words))"
   ]
  },
  {
   "cell_type": "code",
   "execution_count": 20,
   "metadata": {
    "collapsed": false
   },
   "outputs": [
    {
     "name": "stdout",
     "output_type": "stream",
     "text": [
      "0-5 words: [4, 8, 11, 15, 19]\n",
      "0-5 words: [4, 9, 11, 14, 18]\n"
     ]
    }
   ],
   "source": [
    "naive_mapping01 = {\n",
    "    '1': 'н',\n",
    "    '2': 'т',\n",
    "    '3': 'р',\n",
    "    '4': 'сзж',\n",
    "    '5': 'л',\n",
    "    '6': 'в',\n",
    "    '7': 'к',\n",
    "    '8': 'п',\n",
    "    '9': 'м',\n",
    "    '0': 'дг'\n",
    "}\n",
    "naive_mapping02 = {\n",
    "    '1': 'дг',\n",
    "    '2': 'н',\n",
    "    '3': 'м',\n",
    "    '4': 'р',\n",
    "    '5': 'п',\n",
    "    '6': 'т',\n",
    "    '7': 'сзж',\n",
    "    '8': 'в',\n",
    "    '9': 'к',\n",
    "    '0': 'л'\n",
    "}\n",
    "testresult(testmapping(naive_mapping01, words))\n",
    "testresult(testmapping(naive_mapping02, words))"
   ]
  },
  {
   "cell_type": "markdown",
   "metadata": {},
   "source": [
    "К сожалению, \"наивный\" подход дает результат хуже, чем базовый вариант.\n",
    "Может, это не так на простых словах?"
   ]
  },
  {
   "cell_type": "code",
   "execution_count": 29,
   "metadata": {
    "collapsed": false
   },
   "outputs": [
    {
     "name": "stdout",
     "output_type": "stream",
     "text": [
      "0-5 words: [22, 23, 28, 34, 38]\n",
      "0-5 words: [8, 13, 24, 34, 40]\n",
      "0-5 words: [8, 13, 22, 33, 39]\n"
     ]
    }
   ],
   "source": [
    "testresult(testmapping(test_mapping01, good_words))\n",
    "testresult(testmapping(naive_mapping01, good_words))\n",
    "testresult(testmapping(naive_mapping02, good_words))"
   ]
  },
  {
   "cell_type": "markdown",
   "metadata": {},
   "source": [
    "И действительно, среди \"простых\" слов наивный маппинг выглядит чуть лучше из-за меньшего количества нулей, при близких средних и медианах. К сожалению, всё равно много чисел с небольшим числом кодов.\n",
    "\n",
    "Сделаем комбинацию всех букв с учетом их частоты во всем языке."
   ]
  },
  {
   "cell_type": "code",
   "execution_count": 30,
   "metadata": {
    "collapsed": false
   },
   "outputs": [
    {
     "name": "stdout",
     "output_type": "stream",
     "text": [
      "0-5 words: [1, 1, 5, 5, 7]\n",
      "0-5 words: [6, 9, 15, 18, 25]\n"
     ]
    }
   ],
   "source": [
    "naive_mapping03 = {\n",
    "    '1': 'т',\n",
    "    '2': 'р',\n",
    "    '3': 'с',\n",
    "    '4': 'чгк',\n",
    "    '5': 'вф',\n",
    "    '6': 'пб',\n",
    "    '7': 'мжшщ',\n",
    "    '8': 'лх',\n",
    "    '9': 'здц',\n",
    "    '0': 'н'\n",
    "}\n",
    "testresult(testmapping(naive_mapping03, words))\n",
    "testresult(testmapping(naive_mapping03, good_words))"
   ]
  },
  {
   "cell_type": "markdown",
   "metadata": {},
   "source": [
    "Такой мэппинг лучше работает и с точки зрения всех слов, и на \"простых\" словах. Чтобы улучшить работу на простых, в частности, исключить нули, можно попробовать посчитать частоту в этих \"простых\" словах."
   ]
  },
  {
   "cell_type": "code",
   "execution_count": 31,
   "metadata": {
    "collapsed": false
   },
   "outputs": [
    {
     "name": "stdout",
     "output_type": "stream",
     "text": [
      "{'ч': 0.0, 'щ': 0.0, 'н': 0.15558698727015557, 'д': 0.13861386138613863, 'л': 0.21923620933521923, 'б': 0.10325318246110325, 'з': 0.10466760961810467, 'к': 0.17114568599717114, 'п': 0.13578500707213578, 'р': 0.22347949080622348, 'м': 0.13437057991513437, 'г': 0.08062234794908062, 'х': 0.0, 'в': 0.09476661951909476, 'т': 0.16407355021216408, 'ц': 0.031117397454031116, 'с': 0.15558698727015557, 'ф': 0.0, 'ш': 0.0, 'ж': 0.055162659123055166}\n",
      "{'ч': 0.05662983425414365, 'щ': 0.021408839779005526, 'н': 0.1526243093922652, 'д': 0.12292817679558012, 'л': 0.18577348066298344, 'б': 0.09668508287292818, 'з': 0.0718232044198895, 'к': 0.1712707182320442, 'п': 0.11533149171270718, 'р': 0.19958563535911603, 'м': 0.12292817679558012, 'г': 0.07113259668508287, 'х': 0.04488950276243094, 'в': 0.07803867403314917, 'т': 0.16574585635359115, 'ц': 0.026243093922651933, 'с': 0.12914364640883977, 'ф': 0.04143646408839779, 'ш': 0.04903314917127072, 'ж': 0.04143646408839779}\n"
     ]
    }
   ],
   "source": [
    "cond01 = good_words['allchars'] == 2\n",
    "gw = good_words[cond01]['Lemma'].tolist()\n",
    "cond01 = words['allchars'] == 2\n",
    "aw = words[cond01]['Lemma'].tolist()\n",
    "freqsgw = {}\n",
    "freqsaw = {}\n",
    "for char in soglasniye_all:\n",
    "    freqgw = 0\n",
    "    for word in gw:\n",
    "        if char in word:\n",
    "            freqgw += 1\n",
    "    freqsgw[char] = freqgw / len(gw)\n",
    "    freqaw = 0\n",
    "    for word in aw:\n",
    "        if char in word:\n",
    "            freqaw += 1\n",
    "    freqsaw[char] = freqaw / len(aw)\n",
    "print(freqsgw)\n",
    "print(freqsaw)"
   ]
  },
  {
   "cell_type": "code",
   "execution_count": 32,
   "metadata": {
    "collapsed": false
   },
   "outputs": [
    {
     "name": "stdout",
     "output_type": "stream",
     "text": [
      "0-5 words: [1, 2, 5, 9, 16]\n",
      "0-5 words: [2, 8, 21, 25, 32]\n"
     ]
    }
   ],
   "source": [
    "naive_mapping04 = {\n",
    "    '1': 'л',\n",
    "    '2': 'р',\n",
    "    '3': 'к',\n",
    "    '4': 'н',\n",
    "    '5': 'с',\n",
    "    '6': 'т',\n",
    "    '7': 'д',\n",
    "    '8': 'мжг',\n",
    "    '9': 'пб',\n",
    "    '0': 'вз'\n",
    "}\n",
    "testresult(testmapping(naive_mapping04, words))\n",
    "testresult(testmapping(naive_mapping04, good_words))"
   ]
  },
  {
   "cell_type": "markdown",
   "metadata": {},
   "source": [
    "А что, если учесть позиции - первое или второе место?"
   ]
  },
  {
   "cell_type": "code",
   "execution_count": 21,
   "metadata": {
    "collapsed": false
   },
   "outputs": [],
   "source": [
    "cond01 = words['allchars'] == 2\n",
    "gw = words[cond01]['chars'].tolist()\n",
    "freqsgw_1 = {}\n",
    "freqsgw_2 = {}\n",
    "freqsgw_12 = {}\n",
    "for char in soglasniye_all:\n",
    "    freqgw_1 = 0\n",
    "    freqgw_2 = 0\n",
    "    freqgw_12 = 0\n",
    "    for word in gw:\n",
    "        if char in word[0]:\n",
    "            freqgw_1 += 1\n",
    "        if char in word[1]:\n",
    "            freqgw_2 += 1\n",
    "        if char+char==word:\n",
    "            freqgw_12 += 1\n",
    "    freqsgw_1[char] = freqgw_1 / len(gw)\n",
    "    freqsgw_2[char] = freqgw_2 / len(gw)\n",
    "    freqsgw_12[char] = freqgw_12 / len(gw)"
   ]
  },
  {
   "cell_type": "code",
   "execution_count": 22,
   "metadata": {
    "collapsed": false
   },
   "outputs": [
    {
     "name": "stdout",
     "output_type": "stream",
     "text": [
      "б\t6.49\t3.45\t0.28\n",
      "в\t4.97\t2.9\t0.07\n",
      "г\t3.87\t3.25\t0.0\n",
      "д\t6.77\t5.8\t0.28\n",
      "ж\t2.0\t2.21\t0.07\n",
      "з\t4.28\t2.97\t0.07\n",
      "к\t7.87\t9.74\t0.48\n",
      "л\t7.94\t10.77\t0.14\n",
      "м\t7.18\t5.46\t0.35\n",
      "н\t4.7\t10.98\t0.41\n",
      "п\t8.15\t3.8\t0.41\n",
      "р\t8.84\t11.12\t0.0\n",
      "с\t8.15\t5.04\t0.28\n",
      "т\t6.35\t10.64\t0.41\n",
      "ф\t2.49\t1.73\t0.07\n",
      "х\t2.42\t2.07\t0.0\n",
      "ц\t0.69\t2.0\t0.07\n",
      "ч\t3.45\t2.35\t0.14\n",
      "ш\t2.56\t2.42\t0.07\n",
      "щ\t0.83\t1.31\t0.0\n"
     ]
    }
   ],
   "source": [
    "for char in soglasniye_all:\n",
    "    print(char, \n",
    "          round(freqsgw_1[char]*100, 2),\n",
    "          round(freqsgw_2[char]*100, 2),\n",
    "          round(freqsgw_12[char]*100, 2),\n",
    "          sep='\\t')"
   ]
  },
  {
   "cell_type": "markdown",
   "metadata": {},
   "source": [
    "Учитываем частоту в первом и втором слогах."
   ]
  },
  {
   "cell_type": "code",
   "execution_count": 33,
   "metadata": {
    "collapsed": false
   },
   "outputs": [
    {
     "name": "stdout",
     "output_type": "stream",
     "text": [
      "0-5 words: [0, 0, 2, 4, 5]\n",
      "0-5 words: [1, 5, 13, 22, 25]\n"
     ]
    }
   ],
   "source": [
    "naive_mapping05 = {\n",
    "    '1': 'рч',\n",
    "    '2': 'нв',\n",
    "    '3': 'л',\n",
    "    '4': 'пт',\n",
    "    '5': 'кф',\n",
    "    '6': 'бцх',\n",
    "    '7': 'жзщ',\n",
    "    '8': 'сш',\n",
    "    '9': 'м',\n",
    "    '0': 'дг'\n",
    "}\n",
    "testresult(testmapping(naive_mapping05, words))\n",
    "testresult(testmapping(naive_mapping05, good_words))"
   ]
  },
  {
   "cell_type": "markdown",
   "metadata": {},
   "source": [
    "То же, что и 05, но в более разумном порядке"
   ]
  },
  {
   "cell_type": "code",
   "execution_count": 34,
   "metadata": {
    "collapsed": false
   },
   "outputs": [
    {
     "name": "stdout",
     "output_type": "stream",
     "text": [
      "0-5 words: [0, 0, 1, 3, 5]\n",
      "0-5 words: [1, 4, 11, 22, 25]\n"
     ]
    }
   ],
   "source": [
    "naive_mapping06 = {\n",
    "    '1': 'нв',\n",
    "    '2': 'кф',\n",
    "    '3': 'мш',\n",
    "    '4': 'чр',\n",
    "    '5': 'пт',\n",
    "    '6': 'бцх',\n",
    "    '7': 'с',\n",
    "    '8': 'зжщ',\n",
    "    '9': 'дг',\n",
    "    '0': 'л'\n",
    "}\n",
    "testresult(testmapping(naive_mapping06, words))\n",
    "testresult(testmapping(naive_mapping06, good_words))"
   ]
  },
  {
   "cell_type": "markdown",
   "metadata": {},
   "source": [
    "Проверим:"
   ]
  },
  {
   "cell_type": "code",
   "execution_count": 27,
   "metadata": {
    "collapsed": false
   },
   "outputs": [
    {
     "name": "stdout",
     "output_type": "stream",
     "text": [
      "1 ['июнь', 'ион', 'иней', 'иена', 'юань', 'но', 'инь', 'эн', 'ню', 'уния', 'эон', 'вой', 'ива', 'явь', 'вэ', 'айва', 'авиа', 'выя']\n",
      "11 ['няня', 'уныние', 'нона', 'неон', 'анион', 'нюни', 'война', 'вино', 'вина', 'воин', 'вена', 'вонь', 'веяние', 'овен', 'авеню', 'вьюн', 'эвен', 'овин', 'ваяние', 'новое', 'нива', 'новь', 'авва']\n",
      "12 ['наука', 'ник', 'инок', 'янки', 'инк', 'век', 'веко', 'явка', 'вояка', 'вьюк', 'инфа', 'неф']\n",
      "100 ['вилла']\n",
      "101 ['нейлон', 'влияние', 'волна', 'явление', 'валун', 'веление', 'авиалиния', 'вольный', 'увалень', 'волан', 'вольная', 'налив', 'вылов']\n",
      "102 ['нолик', 'волк', 'вилка', 'валик', 'волок', 'валек', 'войлок', 'валок', 'валка', 'велик']\n"
     ]
    }
   ],
   "source": [
    "for number in [1, 11, 12, 100, 101, 102]:\n",
    "    number_str = str(number)\n",
    "    combos = getallcombos(naive_mapping06, number_str)\n",
    "    words_found = []\n",
    "    for combo in combos:\n",
    "        cond01 = words['chars'] == combo\n",
    "        words_found += words[cond01]['Lemma'].tolist()\n",
    "    print(number, words_found)"
   ]
  },
  {
   "cell_type": "markdown",
   "metadata": {
    "collapsed": true
   },
   "source": [
    "Для проверки наличия слова в том или ином списке использовался код:"
   ]
  },
  {
   "cell_type": "code",
   "execution_count": 35,
   "metadata": {
    "collapsed": false
   },
   "outputs": [
    {
     "name": "stdout",
     "output_type": "stream",
     "text": [
      "      Lemma  Freq(ipm)  allchars  easychars  difficultchars chars\n",
      "19470   лох        4.6         2          1               1    лх\n",
      "Empty DataFrame\n",
      "Columns: [Lemma, Freq(ipm), allchars, easychars, difficultchars, chars]\n",
      "Index: []\n",
      "Empty DataFrame\n",
      "Columns: [Lemma, Freq(ipm), allchars, easychars, difficultchars, chars]\n",
      "Index: []\n"
     ]
    }
   ],
   "source": [
    "test_word = 'лох'\n",
    "print(words[words['Lemma']==test_word])\n",
    "print(easy_words[easy_words['Lemma']==test_word])\n",
    "print(good_words[good_words['Lemma']==test_word])"
   ]
  }
 ],
 "metadata": {
  "anaconda-cloud": {},
  "kernelspec": {
   "display_name": "Python [Root]",
   "language": "python",
   "name": "Python [Root]"
  },
  "language_info": {
   "codemirror_mode": {
    "name": "ipython",
    "version": 3
   },
   "file_extension": ".py",
   "mimetype": "text/x-python",
   "name": "python",
   "nbconvert_exporter": "python",
   "pygments_lexer": "ipython3",
   "version": "3.5.2"
  }
 },
 "nbformat": 4,
 "nbformat_minor": 0
}
